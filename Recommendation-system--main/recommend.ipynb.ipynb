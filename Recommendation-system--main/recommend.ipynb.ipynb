{
 "cells": [
  {
   "cell_type": "code",
   "execution_count": 36,
   "metadata": {
    "_cell_guid": "b1076dfc-b9ad-4769-8c92-a6c4dae69d19",
    "_uuid": "8f2839f25d086af736a60e9eeb907d3b93b6e0e5",
    "execution": {
     "iopub.execute_input": "2025-05-05T11:07:27.765281Z",
     "iopub.status.busy": "2025-05-05T11:07:27.764970Z",
     "iopub.status.idle": "2025-05-05T11:07:31.792818Z",
     "shell.execute_reply": "2025-05-05T11:07:31.791299Z",
     "shell.execute_reply.started": "2025-05-05T11:07:27.765256Z"
    },
    "trusted": true
   },
   "outputs": [
    {
     "name": "stdout",
     "output_type": "stream",
     "text": [
      "Requirement already satisfied: pandas in /usr/local/lib/python3.11/dist-packages (2.2.3)\n",
      "Requirement already satisfied: numpy in /usr/local/lib/python3.11/dist-packages (1.26.4)\n",
      "Requirement already satisfied: matplotlib in /usr/local/lib/python3.11/dist-packages (3.7.5)\n",
      "Requirement already satisfied: seaborn in /usr/local/lib/python3.11/dist-packages (0.12.2)\n",
      "Requirement already satisfied: scikit-learn in /usr/local/lib/python3.11/dist-packages (1.2.2)\n",
      "Requirement already satisfied: scipy in /usr/local/lib/python3.11/dist-packages (1.15.2)\n",
      "Requirement already satisfied: python-dateutil>=2.8.2 in /usr/local/lib/python3.11/dist-packages (from pandas) (2.9.0.post0)\n",
      "Requirement already satisfied: pytz>=2020.1 in /usr/local/lib/python3.11/dist-packages (from pandas) (2025.2)\n",
      "Requirement already satisfied: tzdata>=2022.7 in /usr/local/lib/python3.11/dist-packages (from pandas) (2025.2)\n",
      "Requirement already satisfied: mkl_fft in /usr/local/lib/python3.11/dist-packages (from numpy) (1.3.8)\n",
      "Requirement already satisfied: mkl_random in /usr/local/lib/python3.11/dist-packages (from numpy) (1.2.4)\n",
      "Requirement already satisfied: mkl_umath in /usr/local/lib/python3.11/dist-packages (from numpy) (0.1.1)\n",
      "Requirement already satisfied: mkl in /usr/local/lib/python3.11/dist-packages (from numpy) (2025.1.0)\n",
      "Requirement already satisfied: tbb4py in /usr/local/lib/python3.11/dist-packages (from numpy) (2022.1.0)\n",
      "Requirement already satisfied: mkl-service in /usr/local/lib/python3.11/dist-packages (from numpy) (2.4.1)\n",
      "Requirement already satisfied: contourpy>=1.0.1 in /usr/local/lib/python3.11/dist-packages (from matplotlib) (1.3.1)\n",
      "Requirement already satisfied: cycler>=0.10 in /usr/local/lib/python3.11/dist-packages (from matplotlib) (0.12.1)\n",
      "Requirement already satisfied: fonttools>=4.22.0 in /usr/local/lib/python3.11/dist-packages (from matplotlib) (4.56.0)\n",
      "Requirement already satisfied: kiwisolver>=1.0.1 in /usr/local/lib/python3.11/dist-packages (from matplotlib) (1.4.8)\n",
      "Requirement already satisfied: packaging>=20.0 in /usr/local/lib/python3.11/dist-packages (from matplotlib) (24.2)\n",
      "Requirement already satisfied: pillow>=6.2.0 in /usr/local/lib/python3.11/dist-packages (from matplotlib) (11.1.0)\n",
      "Requirement already satisfied: pyparsing>=2.3.1 in /usr/local/lib/python3.11/dist-packages (from matplotlib) (3.2.1)\n",
      "Requirement already satisfied: joblib>=1.1.1 in /usr/local/lib/python3.11/dist-packages (from scikit-learn) (1.4.2)\n",
      "Requirement already satisfied: threadpoolctl>=2.0.0 in /usr/local/lib/python3.11/dist-packages (from scikit-learn) (3.6.0)\n",
      "Requirement already satisfied: six>=1.5 in /usr/local/lib/python3.11/dist-packages (from python-dateutil>=2.8.2->pandas) (1.17.0)\n",
      "Requirement already satisfied: intel-openmp<2026,>=2024 in /usr/local/lib/python3.11/dist-packages (from mkl->numpy) (2024.2.0)\n",
      "Requirement already satisfied: tbb==2022.* in /usr/local/lib/python3.11/dist-packages (from mkl->numpy) (2022.1.0)\n",
      "Requirement already satisfied: tcmlib==1.* in /usr/local/lib/python3.11/dist-packages (from tbb==2022.*->mkl->numpy) (1.2.0)\n",
      "Requirement already satisfied: intel-cmplr-lib-rt in /usr/local/lib/python3.11/dist-packages (from mkl_umath->numpy) (2024.2.0)\n",
      "Requirement already satisfied: intel-cmplr-lib-ur==2024.2.0 in /usr/local/lib/python3.11/dist-packages (from intel-openmp<2026,>=2024->mkl->numpy) (2024.2.0)\n"
     ]
    }
   ],
   "source": [
    "! pip install pandas numpy matplotlib seaborn scikit-learn scipy\n"
   ]
  },
  {
   "cell_type": "code",
   "execution_count": 37,
   "metadata": {
    "execution": {
     "iopub.execute_input": "2025-05-05T11:07:42.813333Z",
     "iopub.status.busy": "2025-05-05T11:07:42.812935Z",
     "iopub.status.idle": "2025-05-05T11:07:42.820358Z",
     "shell.execute_reply": "2025-05-05T11:07:42.819252Z",
     "shell.execute_reply.started": "2025-05-05T11:07:42.813302Z"
    },
    "trusted": true
   },
   "outputs": [],
   "source": [
    "import pandas as pd\n",
    "import numpy as np\n",
    "import matplotlib.pyplot as plt\n",
    "import seaborn as sns\n",
    "\n",
    "from sklearn.metrics.pairwise import cosine_similarity\n",
    "from sklearn.feature_extraction.text import TfidfVectorizer\n",
    "\n",
    "import os\n",
    "from scipy.sparse import coo_matrix"
   ]
  },
  {
   "cell_type": "markdown",
   "metadata": {},
   "source": [
    "# Step 1: Data Loading and Preprocessing"
   ]
  },
  {
   "cell_type": "code",
   "execution_count": 38,
   "metadata": {
    "execution": {
     "iopub.execute_input": "2025-05-05T11:07:48.681627Z",
     "iopub.status.busy": "2025-05-05T11:07:48.681290Z",
     "iopub.status.idle": "2025-05-05T11:07:50.619158Z",
     "shell.execute_reply": "2025-05-05T11:07:50.618044Z",
     "shell.execute_reply.started": "2025-05-05T11:07:48.681602Z"
    },
    "trusted": true
   },
   "outputs": [
    {
     "data": {
      "text/plain": [
       "Index(['Uniq Id', 'Crawl Timestamp', 'Dataset Origin', 'Product Id',\n",
       "       'Product Barcode', 'Product Company Type Source',\n",
       "       'Product Brand Source', 'Product Brand Normalised Source',\n",
       "       'Product Name Source', 'Match Rank', 'Match Score', 'Match Type',\n",
       "       'Retailer', 'Product Category', 'Product Brand', 'Product Name',\n",
       "       'Product Price', 'Sku', 'Upc', 'Product Url', 'Market',\n",
       "       'Product Description', 'Product Currency',\n",
       "       'Product Available Inventory', 'Product Image Url',\n",
       "       'Product Model Number', 'Product Tags', 'Product Rating',\n",
       "       'Product Reviews Count', 'Bsr', 'Joining Key'],\n",
       "      dtype='object')"
      ]
     },
     "execution_count": 38,
     "metadata": {},
     "output_type": "execute_result"
    }
   ],
   "source": [
    "# Read your dataset (replace 'marketing_sample_for_walmart_com-walmart_com_product_review__20200701_20201231__5k_data.tsv' with your dataset path)\n",
    "train_data = pd.read_csv('/kaggle/input/product/product_images_100000.csv', sep=',')\n",
    "train_data.columns"
   ]
  },
  {
   "cell_type": "code",
   "execution_count": 39,
   "metadata": {
    "execution": {
     "iopub.execute_input": "2025-05-05T11:08:00.269683Z",
     "iopub.status.busy": "2025-05-05T11:08:00.269268Z",
     "iopub.status.idle": "2025-05-05T11:08:00.332610Z",
     "shell.execute_reply": "2025-05-05T11:08:00.331285Z",
     "shell.execute_reply.started": "2025-05-05T11:08:00.269657Z"
    },
    "trusted": true
   },
   "outputs": [
    {
     "data": {
      "text/html": [
       "<div>\n",
       "<style scoped>\n",
       "    .dataframe tbody tr th:only-of-type {\n",
       "        vertical-align: middle;\n",
       "    }\n",
       "\n",
       "    .dataframe tbody tr th {\n",
       "        vertical-align: top;\n",
       "    }\n",
       "\n",
       "    .dataframe thead th {\n",
       "        text-align: right;\n",
       "    }\n",
       "</style>\n",
       "<table border=\"1\" class=\"dataframe\">\n",
       "  <thead>\n",
       "    <tr style=\"text-align: right;\">\n",
       "      <th></th>\n",
       "      <th>Uniq Id</th>\n",
       "      <th>Product Id</th>\n",
       "      <th>Product Rating</th>\n",
       "      <th>Product Reviews Count</th>\n",
       "      <th>Product Category</th>\n",
       "      <th>Product Brand</th>\n",
       "      <th>Product Name</th>\n",
       "      <th>Product Image Url</th>\n",
       "      <th>Product Description</th>\n",
       "      <th>Product Tags</th>\n",
       "    </tr>\n",
       "  </thead>\n",
       "  <tbody>\n",
       "    <tr>\n",
       "      <th>0</th>\n",
       "      <td>cbc44f16-6f74-4c8f-ba4b-7b2f216bea11</td>\n",
       "      <td>P00001</td>\n",
       "      <td>3.9</td>\n",
       "      <td>2524</td>\n",
       "      <td>Shoes</td>\n",
       "      <td>Lenovo</td>\n",
       "      <td>Lenovo Headphones Model-716</td>\n",
       "      <td>https://source.unsplash.com/300x300/?shoes&amp;sig=1</td>\n",
       "      <td>Lenovo Headphones Model-716 is a high-quality ...</td>\n",
       "      <td>Shoes, Lenovo, Electronics, Croma</td>\n",
       "    </tr>\n",
       "    <tr>\n",
       "      <th>1</th>\n",
       "      <td>9a1accdb-35fd-4644-808b-f434de418d68</td>\n",
       "      <td>P00002</td>\n",
       "      <td>4.7</td>\n",
       "      <td>766</td>\n",
       "      <td>Laptop</td>\n",
       "      <td>HP</td>\n",
       "      <td>HP Speaker Model-648</td>\n",
       "      <td>https://source.unsplash.com/300x300/?laptop&amp;sig=2</td>\n",
       "      <td>HP Speaker Model-648 is a high-quality Laptop ...</td>\n",
       "      <td>Laptop, HP, Electronics, Myntra</td>\n",
       "    </tr>\n",
       "    <tr>\n",
       "      <th>2</th>\n",
       "      <td>ecfe2477-afa4-4bca-bf72-b4b3cd36c269</td>\n",
       "      <td>P00003</td>\n",
       "      <td>3.0</td>\n",
       "      <td>2295</td>\n",
       "      <td>Tablet</td>\n",
       "      <td>Dell</td>\n",
       "      <td>Dell Shoes Model-303</td>\n",
       "      <td>https://source.unsplash.com/300x300/?tablet&amp;sig=3</td>\n",
       "      <td>Dell Shoes Model-303 is a high-quality Tablet ...</td>\n",
       "      <td>Tablet, Dell, Electronics, Croma</td>\n",
       "    </tr>\n",
       "  </tbody>\n",
       "</table>\n",
       "</div>"
      ],
      "text/plain": [
       "                                Uniq Id Product Id  Product Rating  \\\n",
       "0  cbc44f16-6f74-4c8f-ba4b-7b2f216bea11     P00001             3.9   \n",
       "1  9a1accdb-35fd-4644-808b-f434de418d68     P00002             4.7   \n",
       "2  ecfe2477-afa4-4bca-bf72-b4b3cd36c269     P00003             3.0   \n",
       "\n",
       "   Product Reviews Count Product Category Product Brand  \\\n",
       "0                   2524            Shoes        Lenovo   \n",
       "1                    766           Laptop            HP   \n",
       "2                   2295           Tablet          Dell   \n",
       "\n",
       "                  Product Name  \\\n",
       "0  Lenovo Headphones Model-716   \n",
       "1         HP Speaker Model-648   \n",
       "2         Dell Shoes Model-303   \n",
       "\n",
       "                                   Product Image Url  \\\n",
       "0   https://source.unsplash.com/300x300/?shoes&sig=1   \n",
       "1  https://source.unsplash.com/300x300/?laptop&sig=2   \n",
       "2  https://source.unsplash.com/300x300/?tablet&sig=3   \n",
       "\n",
       "                                 Product Description  \\\n",
       "0  Lenovo Headphones Model-716 is a high-quality ...   \n",
       "1  HP Speaker Model-648 is a high-quality Laptop ...   \n",
       "2  Dell Shoes Model-303 is a high-quality Tablet ...   \n",
       "\n",
       "                        Product Tags  \n",
       "0  Shoes, Lenovo, Electronics, Croma  \n",
       "1    Laptop, HP, Electronics, Myntra  \n",
       "2   Tablet, Dell, Electronics, Croma  "
      ]
     },
     "execution_count": 39,
     "metadata": {},
     "output_type": "execute_result"
    }
   ],
   "source": [
    "train_data = train_data[['Uniq Id','Product Id', 'Product Rating', 'Product Reviews Count', 'Product Category', 'Product Brand', 'Product Name', 'Product Image Url', 'Product Description', 'Product Tags']]\n",
    "train_data.head(3)"
   ]
  },
  {
   "cell_type": "code",
   "execution_count": 40,
   "metadata": {
    "execution": {
     "iopub.execute_input": "2025-05-05T11:08:13.284544Z",
     "iopub.status.busy": "2025-05-05T11:08:13.283512Z",
     "iopub.status.idle": "2025-05-05T11:08:13.290769Z",
     "shell.execute_reply": "2025-05-05T11:08:13.289679Z",
     "shell.execute_reply.started": "2025-05-05T11:08:13.284505Z"
    },
    "trusted": true
   },
   "outputs": [
    {
     "name": "stdout",
     "output_type": "stream",
     "text": [
      "['Uniq Id', 'Product Id', 'Product Rating', 'Product Reviews Count', 'Product Category', 'Product Brand', 'Product Name', 'Product Image Url', 'Product Description', 'Product Tags']\n"
     ]
    }
   ],
   "source": [
    "print(train_data.columns.tolist())\n"
   ]
  },
  {
   "cell_type": "code",
   "execution_count": 41,
   "metadata": {
    "execution": {
     "iopub.execute_input": "2025-05-05T11:08:17.307591Z",
     "iopub.status.busy": "2025-05-05T11:08:17.307231Z",
     "iopub.status.idle": "2025-05-05T11:08:19.541835Z",
     "shell.execute_reply": "2025-05-05T11:08:19.540767Z",
     "shell.execute_reply.started": "2025-05-05T11:08:17.307545Z"
    },
    "trusted": true
   },
   "outputs": [],
   "source": [
    "import pandas as pd\n",
    "import os\n",
    "\n",
    "train_data = pd.read_csv('/kaggle/input/product/product_images_100000.csv')  # Update with your actual CSV file path\n",
    "train_data.columns = train_data.columns.str.strip()  # Strip any extra spaces\n",
    "\n",
    "# Filter correct columns based on your dataset\n",
    "filtered_data = train_data[['Product Name', 'Product Reviews Count', 'Product Brand', 'Product Rating', 'Product Image Url']]\n",
    "\n",
    "# Create 'data' folder if it doesn't exist\n",
    "os.makedirs(\"data\", exist_ok=True)\n",
    "\n",
    "# Save filtered data\n",
    "filtered_data.to_csv(\"data/filtered_data.csv\", index=False)\n"
   ]
  },
  {
   "cell_type": "code",
   "execution_count": 42,
   "metadata": {
    "execution": {
     "iopub.execute_input": "2025-05-05T11:08:27.652409Z",
     "iopub.status.busy": "2025-05-05T11:08:27.652004Z",
     "iopub.status.idle": "2025-05-05T11:08:27.660419Z",
     "shell.execute_reply": "2025-05-05T11:08:27.659340Z",
     "shell.execute_reply.started": "2025-05-05T11:08:27.652384Z"
    },
    "trusted": true
   },
   "outputs": [
    {
     "data": {
      "text/plain": [
       "0                    Shoes, Lenovo, Electronics, Croma\n",
       "1                      Laptop, HP, Electronics, Myntra\n",
       "2                     Tablet, Dell, Electronics, Croma\n",
       "3          Laptop, Sony, Electronics, Reliance Digital\n",
       "4        Watch, Samsung, Electronics, Reliance Digital\n",
       "                             ...                      \n",
       "99995                   Bag, Asus, Electronics, Myntra\n",
       "99996              Speaker, Canon, Electronics, Myntra\n",
       "99997      Camera, Asus, Electronics, Reliance Digital\n",
       "99998    Laptop, Adidas, Electronics, Reliance Digital\n",
       "99999                  Bag, Lenovo, Electronics, Croma\n",
       "Name: Product Tags, Length: 100000, dtype: object"
      ]
     },
     "execution_count": 42,
     "metadata": {},
     "output_type": "execute_result"
    }
   ],
   "source": [
    "train_data['Product Tags']"
   ]
  },
  {
   "cell_type": "code",
   "execution_count": 43,
   "metadata": {
    "execution": {
     "iopub.execute_input": "2025-05-05T11:08:31.444672Z",
     "iopub.status.busy": "2025-05-05T11:08:31.444277Z",
     "iopub.status.idle": "2025-05-05T11:08:31.451518Z",
     "shell.execute_reply": "2025-05-05T11:08:31.450417Z",
     "shell.execute_reply.started": "2025-05-05T11:08:31.444648Z"
    },
    "trusted": true
   },
   "outputs": [
    {
     "data": {
      "text/plain": [
       "(100000, 31)"
      ]
     },
     "execution_count": 43,
     "metadata": {},
     "output_type": "execute_result"
    }
   ],
   "source": [
    "train_data.shape"
   ]
  },
  {
   "cell_type": "code",
   "execution_count": 44,
   "metadata": {
    "execution": {
     "iopub.execute_input": "2025-05-05T11:08:32.479011Z",
     "iopub.status.busy": "2025-05-05T11:08:32.478637Z",
     "iopub.status.idle": "2025-05-05T11:08:32.618430Z",
     "shell.execute_reply": "2025-05-05T11:08:32.617618Z",
     "shell.execute_reply.started": "2025-05-05T11:08:32.478978Z"
    },
    "trusted": true
   },
   "outputs": [
    {
     "data": {
      "text/plain": [
       "Uniq Id                            0\n",
       "Crawl Timestamp                    0\n",
       "Dataset Origin                     0\n",
       "Product Id                         0\n",
       "Product Barcode                    0\n",
       "Product Company Type Source        0\n",
       "Product Brand Source               0\n",
       "Product Brand Normalised Source    0\n",
       "Product Name Source                0\n",
       "Match Rank                         0\n",
       "Match Score                        0\n",
       "Match Type                         0\n",
       "Retailer                           0\n",
       "Product Category                   0\n",
       "Product Brand                      0\n",
       "Product Name                       0\n",
       "Product Price                      0\n",
       "Sku                                0\n",
       "Upc                                0\n",
       "Product Url                        0\n",
       "Market                             0\n",
       "Product Description                0\n",
       "Product Currency                   0\n",
       "Product Available Inventory        0\n",
       "Product Image Url                  0\n",
       "Product Model Number               0\n",
       "Product Tags                       0\n",
       "Product Rating                     0\n",
       "Product Reviews Count              0\n",
       "Bsr                                0\n",
       "Joining Key                        0\n",
       "dtype: int64"
      ]
     },
     "execution_count": 44,
     "metadata": {},
     "output_type": "execute_result"
    }
   ],
   "source": [
    "train_data.isnull().sum()"
   ]
  },
  {
   "cell_type": "code",
   "execution_count": 45,
   "metadata": {
    "execution": {
     "iopub.execute_input": "2025-05-05T11:08:34.790432Z",
     "iopub.status.busy": "2025-05-05T11:08:34.790119Z",
     "iopub.status.idle": "2025-05-05T11:08:35.187634Z",
     "shell.execute_reply": "2025-05-05T11:08:35.186591Z",
     "shell.execute_reply.started": "2025-05-05T11:08:34.790411Z"
    },
    "trusted": true
   },
   "outputs": [
    {
     "data": {
      "text/plain": [
       "0"
      ]
     },
     "execution_count": 45,
     "metadata": {},
     "output_type": "execute_result"
    }
   ],
   "source": [
    "train_data.duplicated().sum()"
   ]
  },
  {
   "cell_type": "code",
   "execution_count": 46,
   "metadata": {
    "execution": {
     "iopub.execute_input": "2025-05-05T11:08:42.250257Z",
     "iopub.status.busy": "2025-05-05T11:08:42.249932Z",
     "iopub.status.idle": "2025-05-05T11:08:42.257091Z",
     "shell.execute_reply": "2025-05-05T11:08:42.255876Z",
     "shell.execute_reply.started": "2025-05-05T11:08:42.250231Z"
    },
    "trusted": true
   },
   "outputs": [],
   "source": [
    "# make columns shorter\n",
    "# Define the mapping of current column names to shorter names\n",
    "column_name_mapping = {\n",
    "    'Uniq Id': 'ID',\n",
    "    'Product Id': 'ProdID',\n",
    "    'Product Rating': 'Rating',\n",
    "    'Product Reviews Count': 'ReviewCount',\n",
    "    'Product Category': 'Category',\n",
    "    'Product Brand': 'Brand',\n",
    "    'Product Name': 'Name',\n",
    "    'Product Image Url': 'ImageURL',\n",
    "    'Product Description': 'Description',\n",
    "    'Product Tags': 'Tags',\n",
    "    'Product Contents': 'Contents'\n",
    "}\n",
    "# Rename the columns using the mapping\n",
    "train_data.rename(columns=column_name_mapping, inplace=True)"
   ]
  },
  {
   "cell_type": "code",
   "execution_count": 47,
   "metadata": {
    "execution": {
     "iopub.execute_input": "2025-05-05T11:08:47.291103Z",
     "iopub.status.busy": "2025-05-05T11:08:47.290787Z",
     "iopub.status.idle": "2025-05-05T11:08:47.559807Z",
     "shell.execute_reply": "2025-05-05T11:08:47.558910Z",
     "shell.execute_reply.started": "2025-05-05T11:08:47.291079Z"
    },
    "trusted": true
   },
   "outputs": [],
   "source": [
    "train_data['ID'] = train_data['ID'].str.extract(r'(\\d+)').astype(float)\n",
    "train_data['ProdID'] = train_data['ProdID'].str.extract(r'(\\d+)').astype(float)"
   ]
  },
  {
   "cell_type": "markdown",
   "metadata": {},
   "source": [
    "# Step 2: EDA (Exploratory Data Analysis)"
   ]
  },
  {
   "cell_type": "code",
   "execution_count": 48,
   "metadata": {
    "execution": {
     "iopub.execute_input": "2025-05-05T11:08:52.087063Z",
     "iopub.status.busy": "2025-05-05T11:08:52.086762Z",
     "iopub.status.idle": "2025-05-05T11:08:52.103457Z",
     "shell.execute_reply": "2025-05-05T11:08:52.102345Z",
     "shell.execute_reply.started": "2025-05-05T11:08:52.087035Z"
    },
    "trusted": true
   },
   "outputs": [
    {
     "name": "stdout",
     "output_type": "stream",
     "text": [
      "Number of unique users: 20721\n",
      "Number of unique items: 100000\n",
      "Number of unique ratings: 21\n"
     ]
    }
   ],
   "source": [
    "# Basic statistics\n",
    "num_users = train_data['ID'].nunique()\n",
    "num_items = train_data['ProdID'].nunique()\n",
    "num_ratings = train_data['Rating'].nunique()\n",
    "print(f\"Number of unique users: {num_users}\")\n",
    "print(f\"Number of unique items: {num_items}\")\n",
    "print(f\"Number of unique ratings: {num_ratings}\")"
   ]
  },
  {
   "cell_type": "code",
   "execution_count": 49,
   "metadata": {
    "execution": {
     "iopub.execute_input": "2025-05-05T11:08:54.129619Z",
     "iopub.status.busy": "2025-05-05T11:08:54.128587Z",
     "iopub.status.idle": "2025-05-05T11:08:54.137089Z",
     "shell.execute_reply": "2025-05-05T11:08:54.135703Z",
     "shell.execute_reply.started": "2025-05-05T11:08:54.129543Z"
    },
    "trusted": true
   },
   "outputs": [
    {
     "name": "stdout",
     "output_type": "stream",
     "text": [
      "['ID', 'Crawl Timestamp', 'Dataset Origin', 'ProdID', 'Product Barcode', 'Product Company Type Source', 'Product Brand Source', 'Product Brand Normalised Source', 'Product Name Source', 'Match Rank', 'Match Score', 'Match Type', 'Retailer', 'Category', 'Brand', 'Name', 'Product Price', 'Sku', 'Upc', 'Product Url', 'Market', 'Description', 'Product Currency', 'Product Available Inventory', 'ImageURL', 'Product Model Number', 'Tags', 'Rating', 'ReviewCount', 'Bsr', 'Joining Key']\n"
     ]
    }
   ],
   "source": [
    "print(train_data.columns.tolist())\n",
    "train_data.columns = train_data.columns.str.strip()\n"
   ]
  },
  {
   "cell_type": "code",
   "execution_count": 50,
   "metadata": {
    "execution": {
     "iopub.execute_input": "2025-05-05T11:08:55.792201Z",
     "iopub.status.busy": "2025-05-05T11:08:55.791880Z",
     "iopub.status.idle": "2025-05-05T11:11:26.712740Z",
     "shell.execute_reply": "2025-05-05T11:11:26.711645Z",
     "shell.execute_reply.started": "2025-05-05T11:08:55.792179Z"
    },
    "trusted": true
   },
   "outputs": [
    {
     "data": {
      "image/png": "[encoded data removed]",
      "text/plain": [
       "<Figure size 800x600 with 2 Axes>"
      ]
     },
     "metadata": {},
     "output_type": "display_data"
    }
   ],
   "source": [
    "import matplotlib.pyplot as plt\n",
    "import seaborn as sns\n",
    "\n",
    "# Creating pivot table\n",
    "heatmap_data = train_data.pivot_table(values='Rating', index='ProdID', aggfunc='mean')\n",
    "\n",
    "# Create the heatmap\n",
    "plt.figure(figsize=(8, 6))\n",
    "sns.heatmap(heatmap_data, annot=True, fmt='g', cmap='coolwarm', cbar=True)\n",
    "plt.title('Heatmap of Product Ratings')\n",
    "plt.show()\n"
   ]
  },
  {
   "cell_type": "code",
   "execution_count": 52,
   "metadata": {
    "execution": {
     "iopub.execute_input": "2025-05-05T11:14:32.767437Z",
     "iopub.status.busy": "2025-05-05T11:14:32.767096Z",
     "iopub.status.idle": "2025-05-05T11:14:33.210125Z",
     "shell.execute_reply": "2025-05-05T11:14:33.208943Z",
     "shell.execute_reply.started": "2025-05-05T11:14:32.767415Z"
    },
    "trusted": true
   },
   "outputs": [
    {
     "data": {
      "image/png": "[encoded data removed]",
      "text/plain": [
       "<Figure size 1200x500 with 2 Axes>"
      ]
     },
     "metadata": {},
     "output_type": "display_data"
    }
   ],
   "source": [
    "# Distribution of interactions\n",
    "plt.figure(figsize=(12, 5))\n",
    "plt.subplot(1, 2, 1)\n",
    "train_data['ID'].value_counts().hist(bins=10, edgecolor='k')\n",
    "plt.xlabel('Interactions per User')\n",
    "plt.ylabel('Number of Users')\n",
    "plt.title('Distribution of Interactions per User')\n",
    "\n",
    "plt.subplot(1, 2, 2)\n",
    "train_data['ProdID'].value_counts().hist(bins=10, edgecolor='k',color='green')\n",
    "plt.xlabel('Interactions per Item')\n",
    "plt.ylabel('Number of Items')\n",
    "plt.title('Distribution of Interactions per Item')\n",
    "\n",
    "plt.tight_layout()\n",
    "plt.show()"
   ]
  },
  {
   "cell_type": "code",
   "execution_count": 53,
   "metadata": {
    "execution": {
     "iopub.execute_input": "2025-05-05T11:14:40.357602Z",
     "iopub.status.busy": "2025-05-05T11:14:40.357261Z",
     "iopub.status.idle": "2025-05-05T11:14:40.562433Z",
     "shell.execute_reply": "2025-05-05T11:14:40.561414Z",
     "shell.execute_reply.started": "2025-05-05T11:14:40.357577Z"
    },
    "trusted": true
   },
   "outputs": [
    {
     "data": {
      "text/plain": [
       "Text(0.5, 1.0, 'Most Popular items')"
      ]
     },
     "execution_count": 53,
     "metadata": {},
     "output_type": "execute_result"
    },
    {
     "data": {
      "image/png": "[encoded data removed]",
      "text/plain": [
       "<Figure size 640x480 with 1 Axes>"
      ]
     },
     "metadata": {},
     "output_type": "display_data"
    }
   ],
   "source": [
    "# Most popular items\n",
    "popular_items = train_data['ProdID'].value_counts().head(5)\n",
    "popular_items.plot(kind='bar',color='red')\n",
    "plt.title(\"Most Popular items\")"
   ]
  },
  {
   "cell_type": "code",
   "execution_count": 55,
   "metadata": {
    "execution": {
     "iopub.execute_input": "2025-05-05T11:14:59.351586Z",
     "iopub.status.busy": "2025-05-05T11:14:59.351237Z",
     "iopub.status.idle": "2025-05-05T11:14:59.609037Z",
     "shell.execute_reply": "2025-05-05T11:14:59.608000Z",
     "shell.execute_reply.started": "2025-05-05T11:14:59.351535Z"
    },
    "trusted": true
   },
   "outputs": [
    {
     "data": {
      "text/plain": [
       "<Axes: xlabel='Rating'>"
      ]
     },
     "execution_count": 55,
     "metadata": {},
     "output_type": "execute_result"
    },
    {
     "data": {
      "image/png": "[encoded data removed]",
      "text/plain": [
       "<Figure size 640x480 with 1 Axes>"
      ]
     },
     "metadata": {},
     "output_type": "display_data"
    }
   ],
   "source": [
    "# most rated counts\n",
    "train_data['Rating'].value_counts().plot(kind='bar',color='red')"
   ]
  },
  {
   "cell_type": "markdown",
   "metadata": {},
   "source": [
    "# Step 3: Data Cleaning and Tags Creations"
   ]
  },
  {
   "cell_type": "code",
   "execution_count": 56,
   "metadata": {
    "execution": {
     "iopub.execute_input": "2025-05-05T11:15:03.120827Z",
     "iopub.status.busy": "2025-05-05T11:15:03.120467Z",
     "iopub.status.idle": "2025-05-05T11:17:32.110339Z",
     "shell.execute_reply": "2025-05-05T11:17:32.109095Z",
     "shell.execute_reply.started": "2025-05-05T11:15:03.120802Z"
    },
    "trusted": true
   },
   "outputs": [
    {
     "name": "stdout",
     "output_type": "stream",
     "text": [
      "Processing column: Category\n"
     ]
    },
    {
     "name": "stderr",
     "output_type": "stream",
     "text": [
      "Processing Category: 100%|██████████| 100000/100000 [00:00<00:00, 3826605.48it/s]\n"
     ]
    },
    {
     "name": "stdout",
     "output_type": "stream",
     "text": [
      "Processing column: Brand\n"
     ]
    },
    {
     "name": "stderr",
     "output_type": "stream",
     "text": [
      "Processing Brand: 100%|██████████| 100000/100000 [00:00<00:00, 4136557.66it/s]\n"
     ]
    },
    {
     "name": "stdout",
     "output_type": "stream",
     "text": [
      "Processing column: Description\n"
     ]
    },
    {
     "name": "stderr",
     "output_type": "stream",
     "text": [
      "Processing Description: 100%|██████████| 100000/100000 [00:00<00:00, 2563567.46it/s]\n"
     ]
    }
   ],
   "source": [
    "import pandas as pd\n",
    "import spacy\n",
    "from tqdm import tqdm\n",
    "\n",
    "# Load spacy model\n",
    "nlp = spacy.load(\"en_core_web_sm\")\n",
    "\n",
    "# Define function to clean and extract tags from a list of texts\n",
    "def clean_and_extract_tags(texts):\n",
    "    tags_list = []\n",
    "    for doc in nlp.pipe(texts, disable=[\"ner\", \"parser\"], batch_size=50):  # Disable unnecessary components for speed\n",
    "        tags = [token.text for token in doc if token.is_alpha and not token.is_stop]\n",
    "        tags_list.append(', '.join(tags))\n",
    "    return tags_list\n",
    "\n",
    "# Apply tqdm with progress bar on each column\n",
    "columns_to_extract_tags_from = ['Category', 'Brand', 'Description']\n",
    "\n",
    "for column in columns_to_extract_tags_from:\n",
    "    print(f\"Processing column: {column}\")\n",
    "    # Use the pipe method for batch processing\n",
    "    train_data[column] = tqdm(clean_and_extract_tags(train_data[column].fillna('').tolist()), desc=f'Processing {column}')\n"
   ]
  },
  {
   "cell_type": "code",
   "execution_count": 57,
   "metadata": {
    "execution": {
     "iopub.execute_input": "2025-05-05T11:19:39.535119Z",
     "iopub.status.busy": "2025-05-05T11:19:39.533430Z",
     "iopub.status.idle": "2025-05-05T11:19:40.129454Z",
     "shell.execute_reply": "2025-05-05T11:19:40.128034Z",
     "shell.execute_reply.started": "2025-05-05T11:19:39.535059Z"
    },
    "trusted": true
   },
   "outputs": [],
   "source": [
    "# Concatenate the cleaned tags from all relevant columns\n",
    "train_data['Tags'] = train_data[columns_to_extract_tags_from].apply(lambda row: ', '.join(row), axis=1)"
   ]
  },
  {
   "cell_type": "markdown",
   "metadata": {},
   "source": [
    "# Step 4: Rating Base Recommendations System"
   ]
  },
  {
   "cell_type": "code",
   "execution_count": 58,
   "metadata": {
    "execution": {
     "iopub.execute_input": "2025-05-05T11:19:52.250038Z",
     "iopub.status.busy": "2025-05-05T11:19:52.249703Z",
     "iopub.status.idle": "2025-05-05T11:19:52.646733Z",
     "shell.execute_reply": "2025-05-05T11:19:52.645662Z",
     "shell.execute_reply.started": "2025-05-05T11:19:52.250014Z"
    },
    "trusted": true
   },
   "outputs": [],
   "source": [
    "average_ratings = train_data.groupby(['Name','ReviewCount','Brand','ImageURL'])['Rating'].mean().reset_index()"
   ]
  },
  {
   "cell_type": "code",
   "execution_count": 59,
   "metadata": {
    "execution": {
     "iopub.execute_input": "2025-05-05T11:19:57.110499Z",
     "iopub.status.busy": "2025-05-05T11:19:57.110150Z",
     "iopub.status.idle": "2025-05-05T11:19:57.148712Z",
     "shell.execute_reply": "2025-05-05T11:19:57.147622Z",
     "shell.execute_reply.started": "2025-05-05T11:19:57.110473Z"
    },
    "trusted": true
   },
   "outputs": [],
   "source": [
    "top_rated_items = average_ratings.sort_values(by='Rating', ascending=False)\n",
    "\n",
    "rating_base_recommendation = top_rated_items.head(10)"
   ]
  },
  {
   "cell_type": "code",
   "execution_count": 60,
   "metadata": {
    "execution": {
     "iopub.execute_input": "2025-05-05T11:20:01.857997Z",
     "iopub.status.busy": "2025-05-05T11:20:01.857631Z",
     "iopub.status.idle": "2025-05-05T11:20:01.865935Z",
     "shell.execute_reply": "2025-05-05T11:20:01.864455Z",
     "shell.execute_reply.started": "2025-05-05T11:20:01.857970Z"
    },
    "trusted": true
   },
   "outputs": [
    {
     "name": "stderr",
     "output_type": "stream",
     "text": [
      "/tmp/ipykernel_31/565725879.py:1: SettingWithCopyWarning: \n",
      "A value is trying to be set on a copy of a slice from a DataFrame.\n",
      "Try using .loc[row_indexer,col_indexer] = value instead\n",
      "\n",
      "See the caveats in the documentation: https://pandas.pydata.org/pandas-docs/stable/user_guide/indexing.html#returning-a-view-versus-a-copy\n",
      "  rating_base_recommendation['Rating'] = rating_base_recommendation['Rating'].astype(int)\n",
      "/tmp/ipykernel_31/565725879.py:2: SettingWithCopyWarning: \n",
      "A value is trying to be set on a copy of a slice from a DataFrame.\n",
      "Try using .loc[row_indexer,col_indexer] = value instead\n",
      "\n",
      "See the caveats in the documentation: https://pandas.pydata.org/pandas-docs/stable/user_guide/indexing.html#returning-a-view-versus-a-copy\n",
      "  rating_base_recommendation['ReviewCount'] = rating_base_recommendation['ReviewCount'].astype(int)\n"
     ]
    }
   ],
   "source": [
    "rating_base_recommendation['Rating'] = rating_base_recommendation['Rating'].astype(int)\n",
    "rating_base_recommendation['ReviewCount'] = rating_base_recommendation['ReviewCount'].astype(int)"
   ]
  },
  {
   "cell_type": "code",
   "execution_count": 61,
   "metadata": {
    "execution": {
     "iopub.execute_input": "2025-05-05T11:20:21.409996Z",
     "iopub.status.busy": "2025-05-05T11:20:21.409658Z",
     "iopub.status.idle": "2025-05-05T11:20:21.426263Z",
     "shell.execute_reply": "2025-05-05T11:20:21.424891Z",
     "shell.execute_reply.started": "2025-05-05T11:20:21.409971Z"
    },
    "trusted": true
   },
   "outputs": [
    {
     "name": "stdout",
     "output_type": "stream",
     "text": [
      "Rating Base Recommendation System: (Trending Products)\n"
     ]
    },
    {
     "name": "stderr",
     "output_type": "stream",
     "text": [
      "/tmp/ipykernel_31/513219373.py:2: SettingWithCopyWarning: \n",
      "A value is trying to be set on a copy of a slice from a DataFrame.\n",
      "Try using .loc[row_indexer,col_indexer] = value instead\n",
      "\n",
      "See the caveats in the documentation: https://pandas.pydata.org/pandas-docs/stable/user_guide/indexing.html#returning-a-view-versus-a-copy\n",
      "  rating_base_recommendation[['Name','Rating','ReviewCount','Brand','ImageURL']] = rating_base_recommendation[['Name','Rating','ReviewCount','Brand','ImageURL']]\n"
     ]
    },
    {
     "data": {
      "text/html": [
       "<div>\n",
       "<style scoped>\n",
       "    .dataframe tbody tr th:only-of-type {\n",
       "        vertical-align: middle;\n",
       "    }\n",
       "\n",
       "    .dataframe tbody tr th {\n",
       "        vertical-align: top;\n",
       "    }\n",
       "\n",
       "    .dataframe thead th {\n",
       "        text-align: right;\n",
       "    }\n",
       "</style>\n",
       "<table border=\"1\" class=\"dataframe\">\n",
       "  <thead>\n",
       "    <tr style=\"text-align: right;\">\n",
       "      <th></th>\n",
       "      <th>Name</th>\n",
       "      <th>ReviewCount</th>\n",
       "      <th>Brand</th>\n",
       "      <th>ImageURL</th>\n",
       "      <th>Rating</th>\n",
       "    </tr>\n",
       "  </thead>\n",
       "  <tbody>\n",
       "    <tr>\n",
       "      <th>73704</th>\n",
       "      <td>Nike Laptop Model-947</td>\n",
       "      <td>4541</td>\n",
       "      <td>Nike</td>\n",
       "      <td>https://source.unsplash.com/300x300/?laptop&amp;si...</td>\n",
       "      <td>5</td>\n",
       "    </tr>\n",
       "    <tr>\n",
       "      <th>47314</th>\n",
       "      <td>Dell Tablet Model-545</td>\n",
       "      <td>288</td>\n",
       "      <td>Dell</td>\n",
       "      <td>https://source.unsplash.com/300x300/?headphone...</td>\n",
       "      <td>5</td>\n",
       "    </tr>\n",
       "    <tr>\n",
       "      <th>82282</th>\n",
       "      <td>Samsung Headphones Model-330</td>\n",
       "      <td>2180</td>\n",
       "      <td>Samsung</td>\n",
       "      <td>https://source.unsplash.com/300x300/?headphone...</td>\n",
       "      <td>5</td>\n",
       "    </tr>\n",
       "    <tr>\n",
       "      <th>58852</th>\n",
       "      <td>HP Watch Model-143</td>\n",
       "      <td>4361</td>\n",
       "      <td>HP</td>\n",
       "      <td>https://source.unsplash.com/300x300/?tablet&amp;si...</td>\n",
       "      <td>5</td>\n",
       "    </tr>\n",
       "    <tr>\n",
       "      <th>47297</th>\n",
       "      <td>Dell Tablet Model-532</td>\n",
       "      <td>1740</td>\n",
       "      <td>Dell</td>\n",
       "      <td>https://source.unsplash.com/300x300/?televisio...</td>\n",
       "      <td>5</td>\n",
       "    </tr>\n",
       "    <tr>\n",
       "      <th>33541</th>\n",
       "      <td>Canon Laptop Model-437</td>\n",
       "      <td>2262</td>\n",
       "      <td>Canon</td>\n",
       "      <td>https://source.unsplash.com/300x300/?tablet&amp;si...</td>\n",
       "      <td>5</td>\n",
       "    </tr>\n",
       "    <tr>\n",
       "      <th>86077</th>\n",
       "      <td>Samsung Speaker Model-222</td>\n",
       "      <td>4683</td>\n",
       "      <td>Samsung</td>\n",
       "      <td>https://source.unsplash.com/300x300/?tablet&amp;si...</td>\n",
       "      <td>5</td>\n",
       "    </tr>\n",
       "    <tr>\n",
       "      <th>67061</th>\n",
       "      <td>Lenovo Tablet Model-252</td>\n",
       "      <td>2384</td>\n",
       "      <td>Lenovo</td>\n",
       "      <td>https://source.unsplash.com/300x300/?mobile&amp;si...</td>\n",
       "      <td>5</td>\n",
       "    </tr>\n",
       "    <tr>\n",
       "      <th>67050</th>\n",
       "      <td>Lenovo Tablet Model-246</td>\n",
       "      <td>1801</td>\n",
       "      <td>Lenovo</td>\n",
       "      <td>https://source.unsplash.com/300x300/?shoes&amp;sig...</td>\n",
       "      <td>5</td>\n",
       "    </tr>\n",
       "    <tr>\n",
       "      <th>33583</th>\n",
       "      <td>Canon Laptop Model-492</td>\n",
       "      <td>3368</td>\n",
       "      <td>Canon</td>\n",
       "      <td>https://source.unsplash.com/300x300/?tablet&amp;si...</td>\n",
       "      <td>5</td>\n",
       "    </tr>\n",
       "  </tbody>\n",
       "</table>\n",
       "</div>"
      ],
      "text/plain": [
       "                               Name  ReviewCount    Brand  \\\n",
       "73704         Nike Laptop Model-947         4541     Nike   \n",
       "47314         Dell Tablet Model-545          288     Dell   \n",
       "82282  Samsung Headphones Model-330         2180  Samsung   \n",
       "58852            HP Watch Model-143         4361       HP   \n",
       "47297         Dell Tablet Model-532         1740     Dell   \n",
       "33541        Canon Laptop Model-437         2262    Canon   \n",
       "86077     Samsung Speaker Model-222         4683  Samsung   \n",
       "67061       Lenovo Tablet Model-252         2384   Lenovo   \n",
       "67050       Lenovo Tablet Model-246         1801   Lenovo   \n",
       "33583        Canon Laptop Model-492         3368    Canon   \n",
       "\n",
       "                                                ImageURL  Rating  \n",
       "73704  https://source.unsplash.com/300x300/?laptop&si...       5  \n",
       "47314  https://source.unsplash.com/300x300/?headphone...       5  \n",
       "82282  https://source.unsplash.com/300x300/?headphone...       5  \n",
       "58852  https://source.unsplash.com/300x300/?tablet&si...       5  \n",
       "47297  https://source.unsplash.com/300x300/?televisio...       5  \n",
       "33541  https://source.unsplash.com/300x300/?tablet&si...       5  \n",
       "86077  https://source.unsplash.com/300x300/?tablet&si...       5  \n",
       "67061  https://source.unsplash.com/300x300/?mobile&si...       5  \n",
       "67050  https://source.unsplash.com/300x300/?shoes&sig...       5  \n",
       "33583  https://source.unsplash.com/300x300/?tablet&si...       5  "
      ]
     },
     "execution_count": 61,
     "metadata": {},
     "output_type": "execute_result"
    }
   ],
   "source": [
    "print(\"Rating Base Recommendation System: (Trending Products)\")\n",
    "rating_base_recommendation[['Name','Rating','ReviewCount','Brand','ImageURL']] = rating_base_recommendation[['Name','Rating','ReviewCount','Brand','ImageURL']]\n",
    "rating_base_recommendation\n"
   ]
  },
  {
   "cell_type": "markdown",
   "metadata": {},
   "source": [
    "# Step 5 Content Base Recommendation system (User Preferences or Items similarities)"
   ]
  },
  {
   "cell_type": "code",
   "execution_count": 62,
   "metadata": {
    "execution": {
     "iopub.execute_input": "2025-05-05T11:20:32.212140Z",
     "iopub.status.busy": "2025-05-05T11:20:32.211785Z",
     "iopub.status.idle": "2025-05-05T11:30:15.360791Z",
     "shell.execute_reply": "2025-05-05T11:30:15.359252Z",
     "shell.execute_reply.started": "2025-05-05T11:20:32.212115Z"
    },
    "trusted": true
   },
   "outputs": [
    {
     "name": "stdout",
     "output_type": "stream",
     "text": [
      "(100000, 23)\n"
     ]
    }
   ],
   "source": [
    "from sklearn.feature_extraction.text import TfidfVectorizer\n",
    "\n",
    "# Select the text-based column (e.g., 'Description' or 'Tags')\n",
    "text_data = train_data['Description'].fillna('')  # Replace NaN values with empty strings\n",
    "\n",
    "# Create TF-IDF matrix\n",
    "tfidf_vectorizer = TfidfVectorizer(stop_words='english')\n",
    "tfidf_matrix_content = tfidf_vectorizer.fit_transform(text_data)\n",
    "\n",
    "print(tfidf_matrix_content.shape)  # Check matrix dimensions\n",
    "from sklearn.neighbors import NearestNeighbors\n",
    "\n",
    "nn = NearestNeighbors(metric='cosine', algorithm='brute', n_neighbors=10)\n",
    "nn.fit(tfidf_matrix_content)\n",
    "distances, indices = nn.kneighbors(tfidf_matrix_content)\n"
   ]
  },
  {
   "cell_type": "code",
   "execution_count": 64,
   "metadata": {
    "execution": {
     "iopub.execute_input": "2025-05-05T11:35:32.885660Z",
     "iopub.status.busy": "2025-05-05T11:35:32.885219Z",
     "iopub.status.idle": "2025-05-05T11:35:32.908801Z",
     "shell.execute_reply": "2025-05-05T11:35:32.907139Z",
     "shell.execute_reply.started": "2025-05-05T11:35:32.885627Z"
    },
    "trusted": true
   },
   "outputs": [],
   "source": [
    "item_name = 'Lenovo Headphones Model-716'\n",
    "\n",
    "# Find the index of the item in the train_data\n",
    "item_index = train_data[train_data['Name'] == item_name].index[0]\n",
    "\n",
    "# Get the nearest neighbors for that item\n",
    "recommended_indices = indices[item_index][1:]  # Exclude the item itself if needed\n",
    "recommended_distances = distances[item_index][1:]\n",
    "\n",
    "# Fetch the recommended product details\n",
    "recommended_items = train_data.iloc[recommended_indices][['Name', 'ReviewCount', 'Brand', 'ImageURL', 'Rating']]\n"
   ]
  },
  {
   "cell_type": "markdown",
   "metadata": {},
   "source": [
    "# Function To Recommend Products for Content Base"
   ]
  },
  {
   "cell_type": "code",
   "execution_count": 65,
   "metadata": {
    "execution": {
     "iopub.execute_input": "2025-05-05T11:35:41.594236Z",
     "iopub.status.busy": "2025-05-05T11:35:41.593909Z",
     "iopub.status.idle": "2025-05-05T11:35:41.632817Z",
     "shell.execute_reply": "2025-05-05T11:35:41.631888Z",
     "shell.execute_reply.started": "2025-05-05T11:35:41.594211Z"
    },
    "trusted": true
   },
   "outputs": [
    {
     "name": "stdout",
     "output_type": "stream",
     "text": [
      "89537    Lenovo Headphones Model-437\n",
      "91049    Lenovo Headphones Model-149\n",
      "7890     Lenovo Headphones Model-830\n",
      "83689         Lenovo Shoes Model-656\n",
      "82467    Lenovo Headphones Model-866\n",
      "Name: Name, dtype: object\n"
     ]
    }
   ],
   "source": [
    "from sklearn.feature_extraction.text import TfidfVectorizer\n",
    "from sklearn.neighbors import NearestNeighbors\n",
    "import pandas as pd\n",
    "\n",
    "# Generate recommendations (assuming 'Name' is the product name column)\n",
    "def content_based_recommendations(train_data, product_name, top_n=5):\n",
    "    index = train_data[train_data['Name'] == product_name].index[0]  # Change 'Product Name' to 'Name'\n",
    "    distances, indices = nn.kneighbors(tfidf_matrix_content[index])\n",
    "    return train_data.iloc[indices[0][1:top_n+1]]['Name']  # Change 'Product Name' to 'Name'\n",
    "\n",
    "\n",
    "    tfidf_vectorizer = TfidfVectorizer(stop_words='english')\n",
    "    train_data['combined_features'] = (\n",
    "        train_data['Product Name'].fillna('') + ' ' + train_data['Product Brand'].fillna('')\n",
    "    )\n",
    "\n",
    "    tfidf_matrix = tfidf_vectorizer.fit_transform(train_data['combined_features'])\n",
    "    item_index = train_data[train_data['Product Name'] == item_name].index[0]\n",
    "    cosine_sim = linear_kernel(tfidf_matrix[item_index], tfidf_matrix).flatten()\n",
    "    sim_scores = list(enumerate(cosine_sim))\n",
    "    sim_scores = sorted(sim_scores, key=lambda x: x[1], reverse=True)\n",
    "    top_similar_items = sim_scores[1:top_n+1]\n",
    "    indices = [i[0] for i in top_similar_items]\n",
    "\n",
    "    recommendations = train_data.iloc[indices][['Product Name', 'ReviewCount', 'Product Brand', 'ImageURL', 'Rating']]\n",
    "    return recommendations\n",
    "\n",
    "# Example usage\n",
    "recommendations = content_based_recommendations(train_data, \"Lenovo Headphones Model-716\", top_n=5)\n",
    "print(recommendations)\n"
   ]
  },
  {
   "cell_type": "code",
   "execution_count": 66,
   "metadata": {
    "execution": {
     "iopub.execute_input": "2025-05-05T11:35:52.553745Z",
     "iopub.status.busy": "2025-05-05T11:35:52.553408Z",
     "iopub.status.idle": "2025-05-05T11:35:52.592966Z",
     "shell.execute_reply": "2025-05-05T11:35:52.591892Z",
     "shell.execute_reply.started": "2025-05-05T11:35:52.553722Z"
    },
    "trusted": true
   },
   "outputs": [
    {
     "data": {
      "text/plain": [
       "89537    Lenovo Headphones Model-437\n",
       "91049    Lenovo Headphones Model-149\n",
       "7890     Lenovo Headphones Model-830\n",
       "83689         Lenovo Shoes Model-656\n",
       "82467    Lenovo Headphones Model-866\n",
       "78736    Lenovo Headphones Model-858\n",
       "3940     Lenovo Headphones Model-575\n",
       "2527          Lenovo Shoes Model-316\n",
       "Name: Name, dtype: object"
      ]
     },
     "execution_count": 66,
     "metadata": {},
     "output_type": "execute_result"
    }
   ],
   "source": [
    "# Example: Get content-based recommendations for a specific item\n",
    "item_name = 'Lenovo Headphones Model-716'\n",
    "content_based_rec = content_based_recommendations(train_data, item_name, top_n=8)\n",
    "\n",
    "content_based_rec"
   ]
  },
  {
   "cell_type": "markdown",
   "metadata": {},
   "source": [
    "# Step 6  Collaborative Filtering (Item-Based Collaborative Filtering using K-Nearest Neighbors (KNN) with a sparse matrix)"
   ]
  },
  {
   "cell_type": "code",
   "execution_count": 67,
   "metadata": {
    "execution": {
     "iopub.execute_input": "2025-05-05T11:36:51.124496Z",
     "iopub.status.busy": "2025-05-05T11:36:51.124021Z",
     "iopub.status.idle": "2025-05-05T11:36:51.545021Z",
     "shell.execute_reply": "2025-05-05T11:36:51.543979Z",
     "shell.execute_reply.started": "2025-05-05T11:36:51.124467Z"
    },
    "trusted": true
   },
   "outputs": [
    {
     "name": "stdout",
     "output_type": "stream",
     "text": [
      "Top similar items for ProdID: 1\n",
      "--------------------------------------------------\n",
      "Rank\tItem Index\tProdID\tName\t\tSimilarity Score\n",
      "--------------------------------------------------\n",
      "1\t\t66669\t\t66670.0\t\tApple Mobile Model-515\t\t1.0000\n",
      "2\t\t66665\t\t66666.0\t\tSony Laptop Model-866\t\t1.0000\n",
      "3\t\t66666\t\t66667.0\t\tDell Tablet Model-383\t\t1.0000\n",
      "4\t\t66667\t\t66668.0\t\tCanon Tablet Model-439\t\t1.0000\n",
      "5\t\t66663\t\t66664.0\t\tSamsung Television Model-679\t\t1.0000\n"
     ]
    }
   ],
   "source": [
    "import pandas as pd\n",
    "from scipy.sparse import csr_matrix\n",
    "from sklearn.neighbors import NearestNeighbors\n",
    "\n",
    "# Use 'ProdID' as the product identifier and 'Rating' as the rating\n",
    "# If you have user-level data, add it here as 'UserID'\n",
    "\n",
    "# Encode products\n",
    "train_data['item_idx'] = train_data['ProdID'].astype(\"category\").cat.codes\n",
    "\n",
    "# Create a mapping for item index to product details\n",
    "item_id_mapping = train_data.drop_duplicates('item_idx').set_index('item_idx')[['ProdID', 'Name']].to_dict('index')\n",
    "\n",
    "# If you do NOT have user-level data, you cannot build a user-item matrix.\n",
    "# Instead, you can use only product features or aggregate ratings.\n",
    "\n",
    "# Example: Build a dummy user column if you want to proceed with collaborative filtering (not ideal)\n",
    "train_data['user_idx'] = 0  # All ratings are from a single dummy user\n",
    "\n",
    "# Build sparse matrix (Item-User)\n",
    "sparse_item_user_matrix = csr_matrix(\n",
    "    (train_data['Rating'], (train_data['item_idx'], train_data['user_idx']))\n",
    ")\n",
    "\n",
    "# Fit Item-Item KNN model\n",
    "item_knn = NearestNeighbors(metric='cosine', algorithm='brute', n_neighbors=6)\n",
    "item_knn.fit(sparse_item_user_matrix)\n",
    "\n",
    "# Example - Find similar items for a particular product\n",
    "target_product_id = 1  # Example ProdID\n",
    "\n",
    "if target_product_id in train_data['ProdID'].values:\n",
    "    target_item_idx = train_data.loc[train_data['ProdID'] == target_product_id, 'item_idx'].iloc[0]\n",
    "    distances, indices = item_knn.kneighbors(sparse_item_user_matrix[target_item_idx], n_neighbors=6)\n",
    "\n",
    "    print(f\"Top similar items for ProdID: {target_product_id}\")\n",
    "    print(\"--------------------------------------------------\")\n",
    "    print(\"Rank\\tItem Index\\tProdID\\tName\\t\\tSimilarity Score\")\n",
    "    print(\"--------------------------------------------------\")\n",
    "    for i in range(1, len(indices.flatten())):  # Exclude the target item itself\n",
    "        similar_item_idx = indices.flatten()[i]\n",
    "        similarity_score = 1 - distances.flatten()[i]\n",
    "        item_info = item_id_mapping.get(similar_item_idx)\n",
    "        if item_info:\n",
    "            print(f\"{i}\\t\\t{similar_item_idx}\\t\\t{item_info['ProdID']}\\t\\t{item_info['Name']}\\t\\t{similarity_score:.4f}\")\n",
    "        else:\n",
    "            print(f\"{i}\\t\\t{similar_item_idx}\\t\\tProdID not found\")\n",
    "else:\n",
    "    print(f\"ProdID '{target_product_id}' not found in the training data.\")\n"
   ]
  },
  {
   "cell_type": "markdown",
   "metadata": {},
   "source": [
    "# Item-based collaborative filtering"
   ]
  },
  {
   "cell_type": "code",
   "execution_count": 72,
   "metadata": {
    "execution": {
     "iopub.execute_input": "2025-05-05T11:44:04.207042Z",
     "iopub.status.busy": "2025-05-05T11:44:04.206706Z",
     "iopub.status.idle": "2025-05-05T11:44:19.447016Z",
     "shell.execute_reply": "2025-05-05T11:44:19.445928Z",
     "shell.execute_reply.started": "2025-05-05T11:44:04.207021Z"
    },
    "trusted": true
   },
   "outputs": [
    {
     "name": "stdout",
     "output_type": "stream",
     "text": [
      "Top similar items (item indices): [41527 26062 50797 62744 80868]\n",
      "Similarity scores (lower is better): [0. 0. 0. 0. 0.]\n",
      "Item Index: 41527, Product ID: 41528.0, Name: Dell Watch Model-221\n",
      "Item Index: 26062, Product ID: 26063.0, Name: Apple Headphones Model-130\n",
      "Item Index: 50797, Product ID: 50798.0, Name: Sony Tablet Model-944\n",
      "Item Index: 62744, Product ID: 62745.0, Name: Dell Speaker Model-559\n",
      "Item Index: 80868, Product ID: 80869.0, Name: Asus Bag Model-866\n",
      "Encoded User Index for User ID 4: 4\n"
     ]
    }
   ],
   "source": [
    "from scipy.sparse import csr_matrix\n",
    "from sklearn.neighbors import NearestNeighbors\n",
    "\n",
    "# Step 1: Encode users and products\n",
    "train_data['user_idx'] = train_data['ID'].astype(\"category\").cat.codes\n",
    "train_data['item_idx'] = train_data['ProdID'].astype(\"category\").cat.codes\n",
    "\n",
    "# Step 2: Build sparse matrix (Item-User)\n",
    "sparse_item_user_matrix = csr_matrix(\n",
    "    (train_data['Rating'], (train_data['item_idx'], train_data['user_idx']))\n",
    ")\n",
    "\n",
    "# Step 3: Fit Item-Item KNN model\n",
    "item_knn = NearestNeighbors(metric='cosine', algorithm='brute')\n",
    "item_knn.fit(sparse_item_user_matrix)\n",
    "\n",
    "# Step 4: Example - Find similar items for a particular product\n",
    "target_item_idx = 100  # Example item index\n",
    "distances, indices = item_knn.kneighbors(sparse_item_user_matrix[target_item_idx], n_neighbors=6)\n",
    "\n",
    "# Step 5: Print similar item indices\n",
    "print(\"Top similar items (item indices):\", indices.flatten()[1:])\n",
    "print(\"Similarity scores (lower is better):\", distances.flatten()[1:])\n",
    "\n",
    "# Create a dictionary mapping indices to (index, Product ID, Name)\n",
    "item_mapping = {i: (i, train_data.iloc[i]['ProdID'], train_data.iloc[i]['Name']) for i in range(len(train_data))}\n",
    "\n",
    "for idx in indices.flatten()[1:]:\n",
    "    item_info = item_mapping.get(idx, None)\n",
    "    if item_info is not None:\n",
    "        print(f\"Item Index: {idx}, Product ID: {item_info[1]}, Name: {item_info[2]}\")\n",
    "    else:\n",
    "        print(f\"Item Index: {idx} - Not Found in Mapping\")\n",
    "\n",
    "# If you want to recommend for a specific user ID (e.g., ID = 4)\n",
    "target_user_id = 4\n",
    "\n",
    "# Get encoded index of that user (mapped using category encoding earlier)\n",
    "target_user_index = train_data.loc[train_data['ID'] == target_user_id, 'user_idx'].values[0]\n",
    "\n",
    "print(\"Encoded User Index for User ID 4:\", target_user_index)\n"
   ]
  },
  {
   "cell_type": "markdown",
   "metadata": {},
   "source": [
    "# user-based collaborative filtering"
   ]
  },
  {
   "cell_type": "code",
   "execution_count": null,
   "metadata": {
    "execution": {
     "iopub.execute_input": "2025-05-05T11:45:24.484952Z",
     "iopub.status.busy": "2025-05-05T11:45:24.484626Z",
     "iopub.status.idle": "2025-05-05T11:45:24.664649Z",
     "shell.execute_reply": "2025-05-05T11:45:24.663629Z",
     "shell.execute_reply.started": "2025-05-05T11:45:24.484930Z"
    },
    "trusted": true
   },
   "outputs": [
    {
     "name": "stdout",
     "output_type": "stream",
     "text": [
      "Columns in dataset: Index(['ID', 'Crawl Timestamp', 'Dataset Origin', 'ProdID', 'Product Barcode',\n",
      "       'Product Company Type Source', 'Product Brand Source',\n",
      "       'Product Brand Normalised Source', 'Product Name Source', 'Match Rank',\n",
      "       'Match Score', 'Match Type', 'Retailer', 'Category', 'Brand', 'Name',\n",
      "       'Product Price', 'Sku', 'Upc', 'Product Url', 'Market', 'Description',\n",
      "       'Product Currency', 'Product Available Inventory', 'ImageURL',\n",
      "       'Product Model Number', 'Tags', 'Rating', 'ReviewCount', 'Bsr',\n",
      "       'Joining Key', 'item_idx', 'user_idx'],\n",
      "      dtype='object')\n",
      "Top similar users: [13818 13815 13816 13813 13817]\n",
      "Top similar users (user indices): [13818 13815 13816 13813 13817]\n",
      "Similarity scores (lower is better): [1. 1. 1. 1. 1.]\n",
      "\n",
      "Recommended Products for User ID 4:\n",
      "       ProductID                       Name\n",
      "15658      15659  Dell Headphones Model-620\n",
      "       ProductID                       Name\n",
      "15658      15659  Dell Headphones Model-620\n"
     ]
    },
    {
     "data": {
      "text/html": [
       "<div>\n",
       "<style scoped>\n",
       "    .dataframe tbody tr th:only-of-type {\n",
       "        vertical-align: middle;\n",
       "    }\n",
       "\n",
       "    .dataframe tbody tr th {\n",
       "        vertical-align: top;\n",
       "    }\n",
       "\n",
       "    .dataframe thead th {\n",
       "        text-align: right;\n",
       "    }\n",
       "</style>\n",
       "<table border=\"1\" class=\"dataframe\">\n",
       "  <thead>\n",
       "    <tr style=\"text-align: right;\">\n",
       "      <th></th>\n",
       "      <th>ProductID</th>\n",
       "      <th>Name</th>\n",
       "    </tr>\n",
       "  </thead>\n",
       "  <tbody>\n",
       "    <tr>\n",
       "      <th>15658</th>\n",
       "      <td>15659</td>\n",
       "      <td>Dell Headphones Model-620</td>\n",
       "    </tr>\n",
       "  </tbody>\n",
       "</table>\n",
       "</div>"
      ],
      "text/plain": [
       "       ProductID                       Name\n",
       "15658      15659  Dell Headphones Model-620"
      ]
     },
     "execution_count": 73,
     "metadata": {},
     "output_type": "execute_result"
    }
   ],
   "source": [
    "import pandas as pd\n",
    "from scipy.sparse import coo_matrix\n",
    "from sklearn.neighbors import NearestNeighbors\n",
    "\n",
    "\n",
    "#  Rename columns if necessary\n",
    "train_data = train_data.rename(columns={'ID': 'UserID', 'ProdID': 'ProductID', 'Rating': 'ProductRating'})\n",
    "\n",
    "# Handle missing values in 'ProductRating'\n",
    "train_data['ProductRating'] = pd.to_numeric(train_data['ProductRating'], errors='coerce').fillna(0)\n",
    "\n",
    "# Reduce memory usage by downcasting numeric columns\n",
    "train_data['UserID'] = train_data['UserID'].astype('int32')\n",
    "train_data['ProductID'] = train_data['ProductID'].astype('int32')\n",
    "train_data['ProductRating'] = train_data['ProductRating'].astype('float32')\n",
    "\n",
    "#  Convert to sparse matrix (efficient way)\n",
    "rows = train_data['UserID'].astype('category').cat.codes\n",
    "cols = train_data['ProductID'].astype('category').cat.codes\n",
    "values = train_data['ProductRating']\n",
    "\n",
    "sparse_user_item_matrix = coo_matrix((values, (rows, cols)))\n",
    "\n",
    "# Train KNN Model\n",
    "model_knn = NearestNeighbors(metric='cosine', algorithm='brute', n_neighbors=6)\n",
    "model_knn.fit(sparse_user_item_matrix)\n",
    "\n",
    "# Find similar users for a given user index\n",
    "target_user_index = 0  # Make sure this is a valid index\n",
    "distances, indices = model_knn.kneighbors(sparse_user_item_matrix.getrow(target_user_index), n_neighbors=6)\n",
    "\n",
    "# Display similar users\n",
    "print(\"Top similar users:\", indices.flatten()[1:])  # Exclude self (index 0)\n",
    "\n",
    "\n",
    "\n",
    "\n",
    "from scipy.sparse import csr_matrix\n",
    "\n",
    "# Convert coo_matrix to csr_matrix (supports indexing)\n",
    "sparse_user_item_matrix = sparse_user_item_matrix.tocsr()\n",
    "\n",
    "# Find similar users\n",
    "distances, indices = model_knn.kneighbors(sparse_user_item_matrix[target_user_index], n_neighbors=6)\n",
    "\n",
    "# Print similar users\n",
    "print(\"Top similar users (user indices):\", indices.flatten()[1:])\n",
    "print(\"Similarity scores (lower is better):\", distances.flatten()[1:])\n",
    "\n",
    "# Let's get all items rated by similar users\n",
    "similar_user_indices = indices.flatten()[1:]  # excluding the user itself\n",
    "\n",
    "# Get items rated by these similar users\n",
    "recommended_items = train_data[train_data['user_idx'].isin(similar_user_indices)]\n",
    "\n",
    "# Optionally, filter top-rated items\n",
    "top_rated_items = recommended_items[recommended_items['ProductRating'] >= 4]\n",
    "\n",
    "\n",
    "# Drop duplicates to avoid repeated items\n",
    "top_items = top_rated_items[['ProductID', 'Name']].drop_duplicates()\n",
    "\n",
    "\n",
    "print(\"\\nRecommended Products for User ID 4:\")\n",
    "print(top_items)\n",
    "\n",
    "# Assign to a variable named 'recommended_items_details'\n",
    "recommended_items_details = top_items\n",
    "\n",
    "# Display top 10 recommendations\n",
    "print(recommended_items_details.head(10))\n",
    "\n",
    "\n",
    "recommended_items_details.head(10)\n"
   ]
  },
  {
   "cell_type": "markdown",
   "metadata": {},
   "source": [
    "# Step 7  Hybrid Recommendations"
   ]
  },
  {
   "cell_type": "code",
   "execution_count": null,
   "metadata": {
    "execution": {
     "iopub.execute_input": "2025-05-05T11:46:52.701367Z",
     "iopub.status.busy": "2025-05-05T11:46:52.700937Z",
     "iopub.status.idle": "2025-05-05T11:46:53.069691Z",
     "shell.execute_reply": "2025-05-05T11:46:53.068359Z",
     "shell.execute_reply.started": "2025-05-05T11:46:52.701328Z"
    },
    "trusted": true
   },
   "outputs": [
    {
     "name": "stderr",
     "output_type": "stream",
     "text": [
      "/usr/local/lib/python3.11/dist-packages/sklearn/base.py:439: UserWarning: X does not have valid feature names, but NearestNeighbors was fitted with feature names\n",
      "  warnings.warn(\n"
     ]
    },
    {
     "name": "stdout",
     "output_type": "stream",
     "text": [
      "                           Name   Brand  ProductRating  ReviewCount  ProductID\n",
      "69       Adidas Watch Model-885  Adidas            4.4         3565        NaN\n",
      "90005      Adidas Bag Model-246  Adidas            4.5         3541        NaN\n",
      "266        Adidas Bag Model-790  Adidas            4.0         3184        NaN\n",
      "55740   Adidas Mobile Model-198  Adidas            3.9         3242        NaN\n",
      "49518   Adidas Laptop Model-176  Adidas            4.1         3250        NaN\n",
      "42198    Adidas Shoes Model-410  Adidas            4.6         3616        NaN\n",
      "94842   Adidas Camera Model-160  Adidas            4.1         3203        NaN\n",
      "40035   Adidas Laptop Model-695  Adidas            4.1         3269        NaN\n",
      "44307   Adidas Tablet Model-945  Adidas            4.3         3489        NaN\n",
      "6053   Adidas Speaker Model-334  Adidas            4.6         3879        NaN\n"
     ]
    },
    {
     "name": "stderr",
     "output_type": "stream",
     "text": [
      "/usr/local/lib/python3.11/dist-packages/pandas/io/formats/format.py:1458: RuntimeWarning: invalid value encountered in greater\n",
      "  has_large_values = (abs_vals > 1e6).any()\n",
      "/usr/local/lib/python3.11/dist-packages/pandas/io/formats/format.py:1459: RuntimeWarning: invalid value encountered in less\n",
      "  has_small_values = ((abs_vals < 10 ** (-self.digits)) & (abs_vals > 0)).any()\n",
      "/usr/local/lib/python3.11/dist-packages/pandas/io/formats/format.py:1459: RuntimeWarning: invalid value encountered in greater\n",
      "  has_small_values = ((abs_vals < 10 ** (-self.digits)) & (abs_vals > 0)).any()\n"
     ]
    }
   ],
   "source": [
    "import pandas as pd\n",
    "from sklearn.preprocessing import LabelEncoder\n",
    "from sklearn.neighbors import NearestNeighbors\n",
    "from scipy.sparse import csr_matrix\n",
    "\n",
    "# STEP 1: Prepare Encoded Features for Content-Based Filtering\n",
    "def prepare_item_features(train_data):\n",
    "    # Ensure correct column names\n",
    "    expected_columns = ['ProductID', 'Name', 'Brand', 'Category', 'ProductRating', 'ReviewCount']\n",
    "    missing_columns = [col for col in expected_columns if col not in train_data.columns]\n",
    "    \n",
    "    if missing_columns:\n",
    "        raise KeyError(f\"Missing columns in dataset: {missing_columns}\")\n",
    "\n",
    "    item_features = train_data.drop_duplicates(subset='ProductID')[expected_columns].copy()\n",
    "\n",
    "    # Encoding categorical features\n",
    "    le_brand = LabelEncoder()\n",
    "    le_category = LabelEncoder()\n",
    "    item_features['Brand_enc'] = le_brand.fit_transform(item_features['Brand'].astype(str))\n",
    "    item_features['Category_enc'] = le_category.fit_transform(item_features['Category'].astype(str))\n",
    "\n",
    "    # Selecting only required numeric columns\n",
    "    item_features_encoded = item_features[['Brand_enc', 'Category_enc', 'ProductRating', 'ReviewCount']]\n",
    "\n",
    "    return item_features, item_features_encoded\n",
    "\n",
    "\n",
    "# STEP 2: Content-based Recommendation using Nearest Neighbors\n",
    "def get_similar_items_nn(item_features_encoded, item_features, item_name, n_similar=10):\n",
    "    model = NearestNeighbors(metric='cosine', algorithm='brute')\n",
    "    model.fit(item_features_encoded)\n",
    "\n",
    "    item_idx = item_features[item_features['Name'] == item_name].index[0]\n",
    "    distances, indices = model.kneighbors([item_features_encoded.iloc[item_idx]], n_neighbors=n_similar+1)\n",
    "\n",
    "    similar_indices = indices.flatten()[1:]  # Exclude the item itself\n",
    "    return item_features.iloc[similar_indices][['Name', 'Brand', 'ProductRating', 'ReviewCount']]\n",
    "\n",
    "\n",
    "# STEP 3: Collaborative Filtering (Fixed)\n",
    "def collaborative_filtering_recommendations_sparse(train_data, target_user_id, top_n=10):\n",
    "   \n",
    "    train_data['user_idx'] = train_data['UserID'].astype('category').cat.codes\n",
    "    train_data['item_idx'] = train_data['ProductID'].astype('category').cat.codes\n",
    "\n",
    "    user_id_map = dict(enumerate(train_data.drop_duplicates('user_idx')[['user_idx', 'UserID']].values))\n",
    "    item_id_map = dict(enumerate(train_data.drop_duplicates('item_idx')[['item_idx', 'ProductID', 'Name', 'Brand', 'ProductRating', 'ReviewCount']].values))\n",
    "\n",
    "    sparse_matrix = csr_matrix((train_data['ProductRating'], (train_data['user_idx'], train_data['item_idx'])))\n",
    "\n",
    "    model_knn = NearestNeighbors(metric='cosine', algorithm='brute')\n",
    "    model_knn.fit(sparse_matrix)\n",
    "\n",
    "    target_user_idx = train_data[train_data['UserID'] == target_user_id]['user_idx'].values[0]\n",
    "    distances, indices = model_knn.kneighbors(sparse_matrix[target_user_idx], n_neighbors=6)\n",
    "\n",
    "    similar_user_indices = indices.flatten()[1:]\n",
    "    recommended_items = train_data[train_data['user_idx'].isin(similar_user_indices)]\n",
    "    top_rated = recommended_items[recommended_items['ProductRating'] >= 4]\n",
    "\n",
    "    user_items = train_data[train_data['user_idx'] == target_user_idx]['item_idx'].tolist()\n",
    "    top_rated = top_rated[~top_rated['item_idx'].isin(user_items)]\n",
    "\n",
    "    top_items = top_rated[['item_idx']].drop_duplicates().head(top_n)\n",
    "\n",
    "    recommended_items_details = []\n",
    "    for idx in top_items['item_idx']:\n",
    "        details = item_id_map.get(idx, None)\n",
    "        if details is not None:\n",
    "            recommended_items_details.append(details)\n",
    "\n",
    "    columns = ['item_idx', 'ProductID', 'Name', 'Brand', 'ProductRating', 'ReviewCount']\n",
    "    return pd.DataFrame(recommended_items_details, columns=columns).drop(columns='item_idx')\n",
    "\n",
    "\n",
    "# STEP 4: Hybrid Recommendation Function\n",
    "def hybrid_recommendations(train_data, target_user_id, item_name, top_n=10):\n",
    "    item_features, item_features_encoded = prepare_item_features(train_data)\n",
    "\n",
    "    content_rec = get_similar_items_nn(item_features_encoded, item_features, item_name, n_similar=top_n)\n",
    "    collaborative_rec = collaborative_filtering_recommendations_sparse(train_data, target_user_id, top_n=top_n)\n",
    "\n",
    "    hybrid_df = pd.concat([content_rec, collaborative_rec]).drop_duplicates(subset=['Name']).head(top_n)\n",
    "    return hybrid_df\n",
    "\n",
    "# Usage\n",
    "target_user_id = 10\n",
    "item_name = 'Adidas Watch Model-885'\n",
    "hybrid_rec = hybrid_recommendations(train_data, target_user_id, item_name, top_n=10)\n",
    "print(hybrid_rec)\n"
   ]
  }
 ],
 "metadata": {
  "kaggle": {
   "accelerator": "none",
   "dataSources": [
    {
     "datasetId": 7186806,
     "sourceId": 11468339,
     "sourceType": "datasetVersion"
    }
   ],
   "dockerImageVersionId": 31012,
   "isGpuEnabled": false,
   "isInternetEnabled": false,
   "language": "python",
   "sourceType": "notebook"
  },
  "kernelspec": {
   "display_name": ".venv",
   "language": "python",
   "name": "python3"
  },
  "language_info": {
   "codemirror_mode": {
    "name": "ipython",
    "version": 3
   },
   "file_extension": ".py",
   "mimetype": "text/x-python",
   "name": "python",
   "nbconvert_exporter": "python",
   "pygments_lexer": "ipython3",
   "version": "3.12.5"
  }
 },
 "nbformat": 4,
 "nbformat_minor": 4
}
